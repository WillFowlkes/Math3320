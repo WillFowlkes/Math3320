{
  "nbformat": 4,
  "nbformat_minor": 0,
  "metadata": {
    "colab": {
      "provenance": [],
      "include_colab_link": true
    },
    "kernelspec": {
      "name": "python3",
      "display_name": "Python 3"
    },
    "language_info": {
      "name": "python"
    }
  },
  "cells": [
    {
      "cell_type": "markdown",
      "metadata": {
        "id": "view-in-github",
        "colab_type": "text"
      },
      "source": [
        "<a href=\"https://colab.research.google.com/github/WillFowlkes/Math3320/blob/main/Copy_of_Crypto_Lab1.ipynb\" target=\"_parent\"><img src=\"https://colab.research.google.com/assets/colab-badge.svg\" alt=\"Open In Colab\"/></a>"
      ]
    },
    {
      "cell_type": "markdown",
      "source": [
        "Python Lab 1\n",
        "The main purpose of this lab is becoe familiar with Python and the Co-Lab environment. We'll set a some code to automatically solve a shift cipher, and make some tools to help with substitution ciphers"
      ],
      "metadata": {
        "id": "W0ONICA_tOif"
      }
    },
    {
      "cell_type": "markdown",
      "source": [
        "The following cell Initializes two lists: one with the characters of the alphabet (all capital), and the other with the corresponding frequencies for each letter. Remember to \"run\" this cell by clicking the arrow to the left, or you won't be able to use these lists."
      ],
      "metadata": {
        "id": "bokMN7m_ldfw"
      }
    },
    {
      "cell_type": "code",
      "execution_count": null,
      "metadata": {
        "id": "IT0BBHO7bV4C"
      },
      "outputs": [],
      "source": [
        "alph=['A','B','C','D','E','F','G','H','I','J','K','L','M','N','O','P','Q','R','S','T','U','V','W','X','Y','Z']\n",
        "A0=[.082,.015,.028,.043,.127,.022,.020,.061,.070,.0015,.0077,.040,.024,.067,.075,.019,0.001,.060,.063,.091,.028,.0098,.024,.0015,.020,.00074]"
      ]
    },
    {
      "cell_type": "markdown",
      "source": [
        "This next block defines two functions. DotProduct  takes two lists and returns their dot-product (thinking of the lists as vectors), and VectorShift takes one vector and shifts the entries a given number of steps (with the final entries wrapping around to the front). Notice the syntax used to define and structure the functions. In particular, the use of tabs is very important in Python. Notice  the use of \"range\" to create a loop, and the use of the # symbol for comments. If you already know python, can you find a more concise way to write these functions?"
      ],
      "metadata": {
        "id": "y6Kq9xMJmbh_"
      }
    },
    {
      "cell_type": "code",
      "source": [
        "#Takes the dot product of two vectors. The inputs V1 and V2 should be list objects.\n",
        "def DotProduct (V1 : list, V2 : list):\n",
        "  assert len(V1)==len(V2)\n",
        "  dp=0\n",
        "  for i in range(len(V1)):\n",
        "    dp+=V1[i]*V2[i]\n",
        "  return dp\n",
        "\n",
        "# Takes a vector and shifts its elements by a given amount.\n",
        "#Elements at the end wrap around to the front of the new vector.\n",
        "def VectorShift( V : list, shift : int):\n",
        "  S=[]\n",
        "  for i in range(len(V)):\n",
        "    index = (i+shift)%len(V)\n",
        "    S.append(V[index])\n",
        "  return S"
      ],
      "metadata": {
        "id": "Iwc_d1mS5pnI"
      },
      "execution_count": null,
      "outputs": []
    },
    {
      "cell_type": "markdown",
      "source": [
        "Python code does not need to be inside a function to be evaluated. The following code creates a loop to evaluate the dot-product of A0 against each of its shifts. Note that unless you use the 'print' command, only the last expression evaluated will display its output"
      ],
      "metadata": {
        "id": "o4XL7wCIpB2e"
      }
    },
    {
      "cell_type": "code",
      "source": [
        "for s in range(26):\n",
        "  As=VectorShift(A0,s)\n",
        "  print(s, DotProduct(A0,As))"
      ],
      "metadata": {
        "colab": {
          "base_uri": "https://localhost:8080/"
        },
        "id": "oXUvZrDrpBic",
        "outputId": "af96107e-5ba5-463e-d715-0039c51298a8"
      },
      "execution_count": null,
      "outputs": [
        {
          "output_type": "stream",
          "name": "stdout",
          "text": [
            "0 0.06563837759999999\n",
            "1 0.03927263\n",
            "2 0.03156600999999999\n",
            "3 0.03453748\n",
            "4 0.044474072\n",
            "5 0.0329973\n",
            "6 0.035762920000000004\n",
            "7 0.03859442000000001\n",
            "8 0.033648239999999996\n",
            "9 0.03413354000000001\n",
            "10 0.03815527\n",
            "11 0.045033658000000004\n",
            "12 0.03896673\n",
            "13 0.04255862\n",
            "14 0.03896673\n",
            "15 0.045033658000000004\n",
            "16 0.038155270000000005\n",
            "17 0.03413353999999999\n",
            "18 0.03364824\n",
            "19 0.038594420000000004\n",
            "20 0.03576292\n",
            "21 0.03299730000000001\n",
            "22 0.044474072\n",
            "23 0.034537479999999995\n",
            "24 0.03156600999999999\n",
            "25 0.03927263\n"
          ]
        }
      ]
    },
    {
      "cell_type": "markdown",
      "source": [
        "In the following, You will create a program to autimatically solve a shift cipher. I will give you the name and first line of each function, and what it should do. You will fill in the details to make it work. Instructions for submitting your worksheet are found on Brightspace. You may write additional or different funcitons that solve the problem differently than how I outline, however, do not change the name or header of the main function, and your program must work by calling this functions with no additional work required."
      ],
      "metadata": {
        "id": "kogj8ATBqL7I"
      }
    },
    {
      "cell_type": "code",
      "source": [
        "## FrequencyCount should take as input an arbitrarily long string.\n",
        "## You may assume they are capital letters. It should return a list with the\n",
        "## count of each letter in order. You may find it useful to use the list alph\n",
        "## defined above.\n",
        "##\n",
        "## It may be helpful to use the \"index\" method for a list to find the index of\n",
        "## the first occurence in the list\n",
        "## >>> alph.index('P')\n",
        "## >>> 15\n",
        "##\n",
        "## Example:\n",
        "## >>> FrequencyCount( 'AACCCDZZ')\n",
        "## >>> [2, 0, 3, 1, 0, 0, 0, 0, 0, 0, 0, 0, 0, 0, 0, 0, 0, 0, 0, 0, 0, 0, 0, 0, 0, 2]\n",
        "\n",
        "def FrequencyCount( Cipher : str):\n",
        "  freq = [0]*26\n",
        "  for i in Cipher:\n",
        "    freq[ord(i)-ord('A')]+=1\n",
        "  return freq\n"
      ],
      "metadata": {
        "id": "gOUO3Y91p01A"
      },
      "execution_count": null,
      "outputs": []
    },
    {
      "cell_type": "code",
      "source": [
        "## ShiftCipher should take as input an arbitrarily long string.\n",
        "## You may assume they are capital letters. It should return a new string\n",
        "## of capital letters which is the most likely plaintext, assuming the initial\n",
        "## string was a shift cipher. You may use the lists A0 and alph, as well as any\n",
        "## function in this worksheet.\n",
        "##\n",
        "## Example:\n",
        "## >>> cipher= 'TSHJZUTSFYNRJYMJWJBJWJKTZWQNYYQJWFGGNYXFSIYMJNWSFRJXBJWJKQTUXDRTUXDHTYYTSYFNQFSIUJYJWYMJDQNAJIBNYMYMJNWRTYMJWNSFXFSIGFSPZSIJWSJFYMYMJWTTYTKFAJWDGNLKNWYWJJSTBRDIJFWXXFNITQIRWXWFGGNYTSJRTWSNSLDTZRFDLTNSYTYMJKNJQIXTWITBSYMJQFSJGZYITSYLTNSYTRWRHLWJLTWXLFWIJSDTZWKFYMJWMFIFSFHHNIJSYYMJWJMJBFXUZYNSFUNJGDRWXRHLWJLTWSTBWZSFQTSLFSIITSYLJYNSYTRNXHMNJKNFRLTNSLTZYYMJSTQIRWXWFGGNYYTTPFGFXPJYFSIMJWZRGWJQQFFSIBJSYYMWTZLMYMJBTTIYTYMJGFPJWXXMJGTZLMYFQTFKTKGWTBSGWJFIFSIKNAJHZWWFSYGZSXKQTUXDRTUXDFSIHTYYTSYFNQBMTBJWJLTTIQNYYQJGZSSNJXBJSYITBSYMJQFSJYTLFYMJWGQFHPGJWWNJXGZYUJYJWBMTBFXAJWDSFZLMYDWFSXYWFNLMYFBFDYTRWRHLWJLTWXLFWIJSFSIXVZJJEJIZSIJWYMJLFYJKNWXYMJFYJXTRJQJYYZHJXFSIXTRJKWJSHMGJFSXFSIYMJSMJFYJXTRJWFINXMJXFSIYMJSKJJQNSLWFYMJWXNHPMJBJSYYTQTTPKTWXTRJUFWXQJDGZYWTZSIYMJJSITKFHZHZRGJWKWFRJBMTRXMTZQIMJRJJYGZYRWRHLWJLTWRWRHLWJLTWBFXTSMNXMFSIXFSIPSJJXUQFSYNSLTZYDTZSLHFGGFLJXGZYMJOZRUJIZUFSIWFSFKYJWUJYJWBFANSLFWFPJFSIHFQQNSLTZYXYTUYMNJKUJYJWBFXRTXYIWJFIKZQQDKWNLMYJSJIMJWZXMJIFQQTAJWYMJLFWIJSKTWMJMFIKTWLTYYJSYMJBFDGFHPYTYMJLFYJMJQTXYTSJTKMNXXMTJXFRTSLYMJHFGGFLJXFSIYMJTYMJWXMTJFRTSLXYYMJUTYFYTJXFKYJWQTXNSLYMJRMJWFSTSKTZWQJLXFSIBJSYKFXYJWXTYMFYNYMNSPMJRNLMYMFAJLTYFBFDFQYTLJYMJWNKMJMFISTYZSKTWYZSFYJQDWZSNSYTFLTTXJGJWWDSJYFSILTYHFZLMYGDYMJQFWLJGZYYTSXTSMNXOFHPJYNYBFXFGQZJOFHPJYBNYMGWFXXGZYYTSXVZNYJSJBUJYJWLFAJMNRXJQKZUKTWQTXYFSIXMJIGNLYJFWXGZYMNXXTGXBJWJTAJWMJFWIGDXTRJKWNJSIQDXUFWWTBXBMTKQJBYTMNRNSLWJFYJCHNYJRJSYFSINRUQTWJIMNRYTJCJWYMNRXJQKRWRHLWJLTWHFRJZUBNYMFXNJAJBMNHMMJNSYJSIJIYTUTUZUTSYMJYTUTKUJYJWGZYUJYJWBWNLLQJITZYOZXYNSYNRJQJFANSLMNXOFHPJYGJMNSIMNR'\n",
        "## >>> ShiftCipher(cipher)\n",
        "## >>> 'ONCEUPONATIMETHEREWEREFOURLITTLERABBITSANDTHEIRNAMESWEREFLOPSYMOPSYCOTTONTAILANDPETERTHEYLIVEDWITHTHEIRMOTHERINASANDBANKUNDERNEATHTHEROOTOFAVERYBIGFIRTREENOWMYDEARSSAIDOLDMRSRABBITONEMORNINGYOUMAYGOINTOTHEFIELDSORDOWNTHELANEBUTDONTGOINTOMRMCGREGORSGARDENYOURFATHERHADANACCIDENTTHEREHEWASPUTINAPIEBYMRSMCGREGORNOWRUNALONGANDDONTGETINTOMISCHIEFIAMGOINGOUTTHENOLDMRSRABBITTOOKABASKETANDHERUMBRELLAANDWENTTHROUGHTHEWOODTOTHEBAKERSSHEBOUGHTALOAFOFBROWNBREADANDFIVECURRANTBUNSFLOPSYMOPSYANDCOTTONTAILWHOWEREGOODLITTLEBUNNIESWENTDOWNTHELANETOGATHERBLACKBERRIESBUTPETERWHOWASVERYNAUGHTYRANSTRAIGHTAWAYTOMRMCGREGORSGARDENANDSQUEEZEDUNDERTHEGATEFIRSTHEATESOMELETTUCESANDSOMEFRENCHBEANSANDTHENHEATESOMERADISHESANDTHENFEELINGRATHERSICKHEWENTTOLOOKFORSOMEPARSLEYBUTROUNDTHEENDOFACUCUMBERFRAMEWHOMSHOULDHEMEETBUTMRMCGREGORMRMCGREGORWASONHISHANDSANDKNEESPLANTINGOUTYOUNGCABBAGESBUTHEJUMPEDUPANDRANAFTERPETERWAVINGARAKEANDCALLINGOUTSTOPTHIEFPETERWASMOSTDREADFULLYFRIGHTENEDHERUSHEDALLOVERTHEGARDENFORHEHADFORGOTTENTHEWAYBACKTOTHEGATEHELOSTONEOFHISSHOESAMONGTHECABBAGESANDTHEOTHERSHOEAMONGSTTHEPOTATOESAFTERLOSINGTHEMHERANONFOURLEGSANDWENTFASTERSOTHATITHINKHEMIGHTHAVEGOTAWAYALTOGETHERIFHEHADNOTUNFORTUNATELYRUNINTOAGOOSEBERRYNETANDGOTCAUGHTBYTHELARGEBUTTONSONHISJACKETITWASABLUEJACKETWITHBRASSBUTTONSQUITENEWPETERGAVEHIMSELFUPFORLOSTANDSHEDBIGTEARSBUTHISSOBSWEREOVERHEARDBYSOMEFRIENDLYSPARROWSWHOFLEWTOHIMINGREATEXCITEMENTANDIMPLOREDHIMTOEXERTHIMSELFMRMCGREGORCAMEUPWITHASIEVEWHICHHEINTENDEDTOPOPUPONTHETOPOFPETERBUTPETERWRIGGLEDOUTJUSTINTIMELEAVINGHISJACKETBEHINDHIM'\n",
        "def ShiftCipher( Cipher : str):\n",
        "  max = 0\n",
        "  index = 0\n",
        "  freq = FrequencyCount(Cipher)\n",
        "  text = \"\"\n",
        "  for i in range(26):\n",
        "    if (DotProduct(freq, A0) > max):\n",
        "      max = DotProduct(freq, A0)\n",
        "      index = i\n",
        "    VectorShift(freq, 1)\n",
        "  for j,_ in enumerate(Cipher):\n",
        "    text+=chr((ord(Cipher[j])-ord('A')+index)%26+ord('A'))\n",
        "  return text\n"
      ],
      "metadata": {
        "id": "7KO9teKjtBy4"
      },
      "execution_count": null,
      "outputs": []
    },
    {
      "cell_type": "code",
      "source": [
        "## test cases\n",
        "cipher= 'TSHJZUTSFYNRJYMJWJBJWJKTZWQNYYQJWFGGNYXFSIYMJNWSFRJXBJWJKQTUXDRTUXDHTYYTSYFNQFSIUJYJWYMJDQNAJIBNYMYMJNWRTYMJWNSFXFSIGFSPZSIJWSJFYMYMJWTTYTKFAJWDGNLKNWYWJJSTBRDIJFWXXFNITQIRWXWFGGNYTSJRTWSNSLDTZRFDLTNSYTYMJKNJQIXTWITBSYMJQFSJGZYITSYLTNSYTRWRHLWJLTWXLFWIJSDTZWKFYMJWMFIFSFHHNIJSYYMJWJMJBFXUZYNSFUNJGDRWXRHLWJLTWSTBWZSFQTSLFSIITSYLJYNSYTRNXHMNJKNFRLTNSLTZYYMJSTQIRWXWFGGNYYTTPFGFXPJYFSIMJWZRGWJQQFFSIBJSYYMWTZLMYMJBTTIYTYMJGFPJWXXMJGTZLMYFQTFKTKGWTBSGWJFIFSIKNAJHZWWFSYGZSXKQTUXDRTUXDFSIHTYYTSYFNQBMTBJWJLTTIQNYYQJGZSSNJXBJSYITBSYMJQFSJYTLFYMJWGQFHPGJWWNJXGZYUJYJWBMTBFXAJWDSFZLMYDWFSXYWFNLMYFBFDYTRWRHLWJLTWXLFWIJSFSIXVZJJEJIZSIJWYMJLFYJKNWXYMJFYJXTRJQJYYZHJXFSIXTRJKWJSHMGJFSXFSIYMJSMJFYJXTRJWFINXMJXFSIYMJSKJJQNSLWFYMJWXNHPMJBJSYYTQTTPKTWXTRJUFWXQJDGZYWTZSIYMJJSITKFHZHZRGJWKWFRJBMTRXMTZQIMJRJJYGZYRWRHLWJLTWRWRHLWJLTWBFXTSMNXMFSIXFSIPSJJXUQFSYNSLTZYDTZSLHFGGFLJXGZYMJOZRUJIZUFSIWFSFKYJWUJYJWBFANSLFWFPJFSIHFQQNSLTZYXYTUYMNJKUJYJWBFXRTXYIWJFIKZQQDKWNLMYJSJIMJWZXMJIFQQTAJWYMJLFWIJSKTWMJMFIKTWLTYYJSYMJBFDGFHPYTYMJLFYJMJQTXYTSJTKMNXXMTJXFRTSLYMJHFGGFLJXFSIYMJTYMJWXMTJFRTSLXYYMJUTYFYTJXFKYJWQTXNSLYMJRMJWFSTSKTZWQJLXFSIBJSYKFXYJWXTYMFYNYMNSPMJRNLMYMFAJLTYFBFDFQYTLJYMJWNKMJMFISTYZSKTWYZSFYJQDWZSNSYTFLTTXJGJWWDSJYFSILTYHFZLMYGDYMJQFWLJGZYYTSXTSMNXOFHPJYNYBFXFGQZJOFHPJYBNYMGWFXXGZYYTSXVZNYJSJBUJYJWLFAJMNRXJQKZUKTWQTXYFSIXMJIGNLYJFWXGZYMNXXTGXBJWJTAJWMJFWIGDXTRJKWNJSIQDXUFWWTBXBMTKQJBYTMNRNSLWJFYJCHNYJRJSYFSINRUQTWJIMNRYTJCJWYMNRXJQKRWRHLWJLTWHFRJZUBNYMFXNJAJBMNHMMJNSYJSIJIYTUTUZUTSYMJYTUTKUJYJWGZYUJYJWBWNLLQJITZYOZXYNSYNRJQJFANSLMNXOFHPJYGJMNSIMNR'\n",
        "print(ShiftCipher(cipher))\n"
      ],
      "metadata": {
        "colab": {
          "base_uri": "https://localhost:8080/"
        },
        "id": "730x-VcKNPxF",
        "outputId": "d8d80656-f0cc-4d5f-b350-8fc19dd98a3c"
      },
      "execution_count": null,
      "outputs": [
        {
          "output_type": "stream",
          "name": "stdout",
          "text": [
            "TSHJZUTSFYNRJYMJWJBJWJKTZWQNYYQJWFGGNYXFSIYMJNWSFRJXBJWJKQTUXDRTUXDHTYYTSYFNQFSIUJYJWYMJDQNAJIBNYMYMJNWRTYMJWNSFXFSIGFSPZSIJWSJFYMYMJWTTYTKFAJWDGNLKNWYWJJSTBRDIJFWXXFNITQIRWXWFGGNYTSJRTWSNSLDTZRFDLTNSYTYMJKNJQIXTWITBSYMJQFSJGZYITSYLTNSYTRWRHLWJLTWXLFWIJSDTZWKFYMJWMFIFSFHHNIJSYYMJWJMJBFXUZYNSFUNJGDRWXRHLWJLTWSTBWZSFQTSLFSIITSYLJYNSYTRNXHMNJKNFRLTNSLTZYYMJSTQIRWXWFGGNYYTTPFGFXPJYFSIMJWZRGWJQQFFSIBJSYYMWTZLMYMJBTTIYTYMJGFPJWXXMJGTZLMYFQTFKTKGWTBSGWJFIFSIKNAJHZWWFSYGZSXKQTUXDRTUXDFSIHTYYTSYFNQBMTBJWJLTTIQNYYQJGZSSNJXBJSYITBSYMJQFSJYTLFYMJWGQFHPGJWWNJXGZYUJYJWBMTBFXAJWDSFZLMYDWFSXYWFNLMYFBFDYTRWRHLWJLTWXLFWIJSFSIXVZJJEJIZSIJWYMJLFYJKNWXYMJFYJXTRJQJYYZHJXFSIXTRJKWJSHMGJFSXFSIYMJSMJFYJXTRJWFINXMJXFSIYMJSKJJQNSLWFYMJWXNHPMJBJSYYTQTTPKTWXTRJUFWXQJDGZYWTZSIYMJJSITKFHZHZRGJWKWFRJBMTRXMTZQIMJRJJYGZYRWRHLWJLTWRWRHLWJLTWBFXTSMNXMFSIXFSIPSJJXUQFSYNSLTZYDTZSLHFGGFLJXGZYMJOZRUJIZUFSIWFSFKYJWUJYJWBFANSLFWFPJFSIHFQQNSLTZYXYTUYMNJKUJYJWBFXRTXYIWJFIKZQQDKWNLMYJSJIMJWZXMJIFQQTAJWYMJLFWIJSKTWMJMFIKTWLTYYJSYMJBFDGFHPYTYMJLFYJMJQTXYTSJTKMNXXMTJXFRTSLYMJHFGGFLJXFSIYMJTYMJWXMTJFRTSLXYYMJUTYFYTJXFKYJWQTXNSLYMJRMJWFSTSKTZWQJLXFSIBJSYKFXYJWXTYMFYNYMNSPMJRNLMYMFAJLTYFBFDFQYTLJYMJWNKMJMFISTYZSKTWYZSFYJQDWZSNSYTFLTTXJGJWWDSJYFSILTYHFZLMYGDYMJQFWLJGZYYTSXTSMNXOFHPJYNYBFXFGQZJOFHPJYBNYMGWFXXGZYYTSXVZNYJSJBUJYJWLFAJMNRXJQKZUKTWQTXYFSIXMJIGNLYJFWXGZYMNXXTGXBJWJTAJWMJFWIGDXTRJKWNJSIQDXUFWWTBXBMTKQJBYTMNRNSLWJFYJCHNYJRJSYFSINRUQTWJIMNRYTJCJWYMNRXJQKRWRHLWJLTWHFRJZUBNYMFXNJAJBMNHMMJNSYJSIJIYTUTUZUTSYMJYTUTKUJYJWGZYUJYJWBWNLLQJITZYOZXYNSYNRJQJFANSLMNXOFHPJYGJMNSIMNR\n"
          ]
        }
      ]
    },
    {
      "cell_type": "code",
      "source": [],
      "metadata": {
        "id": "V-99lfdA4mAS"
      },
      "execution_count": null,
      "outputs": []
    }
  ]
}